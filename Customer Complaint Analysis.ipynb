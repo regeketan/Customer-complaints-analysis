{
 "cells": [
  {
   "cell_type": "markdown",
   "id": "4d0c54e6",
   "metadata": {},
   "source": [
    "# NYC 311 Project Code"
   ]
  },
  {
   "cell_type": "code",
   "execution_count": 1,
   "id": "22aca395",
   "metadata": {},
   "outputs": [],
   "source": [
    "import numpy as np\n",
    "import pandas as pd\n",
    "import warnings\n",
    "from datetime import datetime\n",
    "from scipy import stats\n",
    "from scipy.stats import ttest_1samp\n",
    "warnings.filterwarnings('ignore')"
   ]
  },
  {
   "cell_type": "markdown",
   "id": "058c1f0e",
   "metadata": {},
   "source": [
    "### Task 1) Import a NYC 311 Service Request."
   ]
  },
  {
   "cell_type": "code",
   "execution_count": 2,
   "id": "6199df93",
   "metadata": {},
   "outputs": [
    {
     "data": {
      "text/html": [
       "<div>\n",
       "<style scoped>\n",
       "    .dataframe tbody tr th:only-of-type {\n",
       "        vertical-align: middle;\n",
       "    }\n",
       "\n",
       "    .dataframe tbody tr th {\n",
       "        vertical-align: top;\n",
       "    }\n",
       "\n",
       "    .dataframe thead th {\n",
       "        text-align: right;\n",
       "    }\n",
       "</style>\n",
       "<table border=\"1\" class=\"dataframe\">\n",
       "  <thead>\n",
       "    <tr style=\"text-align: right;\">\n",
       "      <th></th>\n",
       "      <th>Unique Key</th>\n",
       "      <th>Created Date</th>\n",
       "      <th>Closed Date</th>\n",
       "      <th>Agency</th>\n",
       "      <th>Agency Name</th>\n",
       "      <th>Complaint Type</th>\n",
       "      <th>Descriptor</th>\n",
       "      <th>Location Type</th>\n",
       "      <th>Incident Zip</th>\n",
       "      <th>Incident Address</th>\n",
       "      <th>...</th>\n",
       "      <th>Bridge Highway Name</th>\n",
       "      <th>Bridge Highway Direction</th>\n",
       "      <th>Road Ramp</th>\n",
       "      <th>Bridge Highway Segment</th>\n",
       "      <th>Garage Lot Name</th>\n",
       "      <th>Ferry Direction</th>\n",
       "      <th>Ferry Terminal Name</th>\n",
       "      <th>Latitude</th>\n",
       "      <th>Longitude</th>\n",
       "      <th>Location</th>\n",
       "    </tr>\n",
       "  </thead>\n",
       "  <tbody>\n",
       "    <tr>\n",
       "      <th>0</th>\n",
       "      <td>32310363</td>\n",
       "      <td>12/31/2015 11:59:45 PM</td>\n",
       "      <td>01-01-2016 00:55</td>\n",
       "      <td>NYPD</td>\n",
       "      <td>New York City Police Department</td>\n",
       "      <td>Noise - Street/Sidewalk</td>\n",
       "      <td>Loud Music/Party</td>\n",
       "      <td>Street/Sidewalk</td>\n",
       "      <td>10034.0</td>\n",
       "      <td>71 VERMILYEA AVENUE</td>\n",
       "      <td>...</td>\n",
       "      <td>NaN</td>\n",
       "      <td>NaN</td>\n",
       "      <td>NaN</td>\n",
       "      <td>NaN</td>\n",
       "      <td>NaN</td>\n",
       "      <td>NaN</td>\n",
       "      <td>NaN</td>\n",
       "      <td>40.865682</td>\n",
       "      <td>-73.923501</td>\n",
       "      <td>(40.86568153633767, -73.92350095571744)</td>\n",
       "    </tr>\n",
       "  </tbody>\n",
       "</table>\n",
       "<p>1 rows × 53 columns</p>\n",
       "</div>"
      ],
      "text/plain": [
       "   Unique Key            Created Date       Closed Date Agency  \\\n",
       "0    32310363  12/31/2015 11:59:45 PM  01-01-2016 00:55   NYPD   \n",
       "\n",
       "                       Agency Name           Complaint Type        Descriptor  \\\n",
       "0  New York City Police Department  Noise - Street/Sidewalk  Loud Music/Party   \n",
       "\n",
       "     Location Type  Incident Zip     Incident Address  ...  \\\n",
       "0  Street/Sidewalk       10034.0  71 VERMILYEA AVENUE  ...   \n",
       "\n",
       "  Bridge Highway Name Bridge Highway Direction Road Ramp  \\\n",
       "0                 NaN                      NaN       NaN   \n",
       "\n",
       "  Bridge Highway Segment Garage Lot Name Ferry Direction Ferry Terminal Name  \\\n",
       "0                    NaN             NaN             NaN                 NaN   \n",
       "\n",
       "    Latitude  Longitude                                 Location  \n",
       "0  40.865682 -73.923501  (40.86568153633767, -73.92350095571744)  \n",
       "\n",
       "[1 rows x 53 columns]"
      ]
     },
     "execution_count": 2,
     "metadata": {},
     "output_type": "execute_result"
    }
   ],
   "source": [
    "alldata=pd.read_csv('servicerequest.csv')\n",
    "alldata.head(1)"
   ]
  },
  {
   "cell_type": "markdown",
   "id": "5804bc83",
   "metadata": {},
   "source": [
    "### Checking Data Type of existing column 'Created Date' &'Closed Date'."
   ]
  },
  {
   "cell_type": "code",
   "execution_count": 3,
   "id": "706483c9",
   "metadata": {},
   "outputs": [
    {
     "data": {
      "text/plain": [
       "Created Date    object\n",
       "Closed Date     object\n",
       "dtype: object"
      ]
     },
     "execution_count": 3,
     "metadata": {},
     "output_type": "execute_result"
    }
   ],
   "source": [
    "alldata[['Created Date','Closed Date']].dtypes"
   ]
  },
  {
   "cell_type": "markdown",
   "id": "49cec3a8",
   "metadata": {},
   "source": [
    "### Task 2) Conversion to datetime data type."
   ]
  },
  {
   "cell_type": "code",
   "execution_count": 4,
   "id": "134de6e7",
   "metadata": {},
   "outputs": [
    {
     "data": {
      "text/plain": [
       "Created Date    datetime64[ns]\n",
       "Closed Date     datetime64[ns]\n",
       "dtype: object"
      ]
     },
     "execution_count": 4,
     "metadata": {},
     "output_type": "execute_result"
    }
   ],
   "source": [
    "alldata['Created Date']=pd.to_datetime(alldata['Created Date'])\n",
    "alldata['Closed Date']=pd.to_datetime(alldata['Closed Date'])\n",
    "alldata[['Created Date','Closed Date']].dtypes"
   ]
  },
  {
   "cell_type": "markdown",
   "id": "de9ee9f4",
   "metadata": {},
   "source": [
    "### Task 3) Creating new column 'Request_closing_Time' = Closing time - Created time."
   ]
  },
  {
   "cell_type": "code",
   "execution_count": 5,
   "id": "88889138",
   "metadata": {},
   "outputs": [
    {
     "data": {
      "text/plain": [
       "0    0.920833\n",
       "1    1.437778\n",
       "2    4.858611\n",
       "3    7.753889\n",
       "4    3.450556\n",
       "Name: Request_Closing_Time, dtype: float64"
      ]
     },
     "execution_count": 5,
     "metadata": {},
     "output_type": "execute_result"
    }
   ],
   "source": [
    "alldata['Request_Closing_Time']=(alldata['Closed Date']-alldata['Created Date']).dt.seconds/60/60\n",
    "alldata['Request_Closing_Time'].head()"
   ]
  },
  {
   "cell_type": "markdown",
   "id": "be742e59",
   "metadata": {},
   "source": [
    "### Task 4) Conclusions from data"
   ]
  },
  {
   "cell_type": "markdown",
   "id": "c9f4dd98",
   "metadata": {},
   "source": [
    "#### Conclusion No 1) Five Cities with maximum no of complaints."
   ]
  },
  {
   "cell_type": "code",
   "execution_count": 6,
   "id": "4f900def",
   "metadata": {},
   "outputs": [
    {
     "data": {
      "text/plain": [
       "BROOKLYN         98307\n",
       "NEW YORK         65994\n",
       "BRONX            40702\n",
       "STATEN ISLAND    12343\n",
       "JAMAICA           7296\n",
       "Name: City, dtype: int64"
      ]
     },
     "execution_count": 6,
     "metadata": {},
     "output_type": "execute_result"
    }
   ],
   "source": [
    "alldata.City.value_counts().sort_values(ascending=False).head()"
   ]
  },
  {
   "cell_type": "markdown",
   "id": "3763cc96",
   "metadata": {},
   "source": [
    "#### Conclusion No 2) In each city maximum no of complain is of which type."
   ]
  },
  {
   "cell_type": "code",
   "execution_count": 7,
   "id": "b488450a",
   "metadata": {
    "scrolled": true
   },
   "outputs": [
    {
     "data": {
      "text/html": [
       "<div>\n",
       "<style scoped>\n",
       "    .dataframe tbody tr th:only-of-type {\n",
       "        vertical-align: middle;\n",
       "    }\n",
       "\n",
       "    .dataframe tbody tr th {\n",
       "        vertical-align: top;\n",
       "    }\n",
       "\n",
       "    .dataframe thead th {\n",
       "        text-align: right;\n",
       "    }\n",
       "</style>\n",
       "<table border=\"1\" class=\"dataframe\">\n",
       "  <thead>\n",
       "    <tr style=\"text-align: right;\">\n",
       "      <th></th>\n",
       "      <th></th>\n",
       "      <th>Complaint Type</th>\n",
       "    </tr>\n",
       "    <tr>\n",
       "      <th>City</th>\n",
       "      <th>Complaint Type</th>\n",
       "      <th></th>\n",
       "    </tr>\n",
       "  </thead>\n",
       "  <tbody>\n",
       "    <tr>\n",
       "      <th>ARVERNE</th>\n",
       "      <th>Illegal Parking</th>\n",
       "      <td>58</td>\n",
       "    </tr>\n",
       "    <tr>\n",
       "      <th>ASTORIA</th>\n",
       "      <th>Blocked Driveway</th>\n",
       "      <td>2618</td>\n",
       "    </tr>\n",
       "    <tr>\n",
       "      <th>Astoria</th>\n",
       "      <th>Noise - Commercial</th>\n",
       "      <td>262</td>\n",
       "    </tr>\n",
       "    <tr>\n",
       "      <th>BAYSIDE</th>\n",
       "      <th>Illegal Parking</th>\n",
       "      <td>514</td>\n",
       "    </tr>\n",
       "    <tr>\n",
       "      <th>BELLEROSE</th>\n",
       "      <th>Illegal Parking</th>\n",
       "      <td>106</td>\n",
       "    </tr>\n",
       "    <tr>\n",
       "      <th>BREEZY POINT</th>\n",
       "      <th>Illegal Parking</th>\n",
       "      <td>15</td>\n",
       "    </tr>\n",
       "    <tr>\n",
       "      <th>BRONX</th>\n",
       "      <th>Blocked Driveway</th>\n",
       "      <td>12755</td>\n",
       "    </tr>\n",
       "    <tr>\n",
       "      <th>BROOKLYN</th>\n",
       "      <th>Blocked Driveway</th>\n",
       "      <td>28148</td>\n",
       "    </tr>\n",
       "    <tr>\n",
       "      <th>CAMBRIA HEIGHTS</th>\n",
       "      <th>Blocked Driveway</th>\n",
       "      <td>147</td>\n",
       "    </tr>\n",
       "    <tr>\n",
       "      <th>CENTRAL PARK</th>\n",
       "      <th>Noise - Street/Sidewalk</th>\n",
       "      <td>95</td>\n",
       "    </tr>\n",
       "    <tr>\n",
       "      <th>COLLEGE POINT</th>\n",
       "      <th>Blocked Driveway</th>\n",
       "      <td>435</td>\n",
       "    </tr>\n",
       "    <tr>\n",
       "      <th>CORONA</th>\n",
       "      <th>Blocked Driveway</th>\n",
       "      <td>2761</td>\n",
       "    </tr>\n",
       "    <tr>\n",
       "      <th>EAST ELMHURST</th>\n",
       "      <th>Blocked Driveway</th>\n",
       "      <td>1408</td>\n",
       "    </tr>\n",
       "    <tr>\n",
       "      <th>ELMHURST</th>\n",
       "      <th>Blocked Driveway</th>\n",
       "      <td>1446</td>\n",
       "    </tr>\n",
       "    <tr>\n",
       "      <th>East Elmhurst</th>\n",
       "      <th>Illegal Parking</th>\n",
       "      <td>13</td>\n",
       "    </tr>\n",
       "    <tr>\n",
       "      <th>FAR ROCKAWAY</th>\n",
       "      <th>Illegal Parking</th>\n",
       "      <td>295</td>\n",
       "    </tr>\n",
       "    <tr>\n",
       "      <th>FLORAL PARK</th>\n",
       "      <th>Illegal Parking</th>\n",
       "      <td>64</td>\n",
       "    </tr>\n",
       "    <tr>\n",
       "      <th>FLUSHING</th>\n",
       "      <th>Blocked Driveway</th>\n",
       "      <td>2795</td>\n",
       "    </tr>\n",
       "    <tr>\n",
       "      <th>FOREST HILLS</th>\n",
       "      <th>Blocked Driveway</th>\n",
       "      <td>663</td>\n",
       "    </tr>\n",
       "    <tr>\n",
       "      <th>FRESH MEADOWS</th>\n",
       "      <th>Illegal Parking</th>\n",
       "      <td>885</td>\n",
       "    </tr>\n",
       "    <tr>\n",
       "      <th>GLEN OAKS</th>\n",
       "      <th>Noise - Commercial</th>\n",
       "      <td>78</td>\n",
       "    </tr>\n",
       "    <tr>\n",
       "      <th>HOLLIS</th>\n",
       "      <th>Blocked Driveway</th>\n",
       "      <td>342</td>\n",
       "    </tr>\n",
       "    <tr>\n",
       "      <th>HOWARD BEACH</th>\n",
       "      <th>Illegal Parking</th>\n",
       "      <td>281</td>\n",
       "    </tr>\n",
       "    <tr>\n",
       "      <th>Howard Beach</th>\n",
       "      <th>Blocked Driveway</th>\n",
       "      <td>1</td>\n",
       "    </tr>\n",
       "    <tr>\n",
       "      <th>JACKSON HEIGHTS</th>\n",
       "      <th>Blocked Driveway</th>\n",
       "      <td>568</td>\n",
       "    </tr>\n",
       "    <tr>\n",
       "      <th>JAMAICA</th>\n",
       "      <th>Blocked Driveway</th>\n",
       "      <td>2818</td>\n",
       "    </tr>\n",
       "    <tr>\n",
       "      <th>KEW GARDENS</th>\n",
       "      <th>Blocked Driveway</th>\n",
       "      <td>313</td>\n",
       "    </tr>\n",
       "    <tr>\n",
       "      <th>LITTLE NECK</th>\n",
       "      <th>Illegal Parking</th>\n",
       "      <td>249</td>\n",
       "    </tr>\n",
       "    <tr>\n",
       "      <th>LONG ISLAND CITY</th>\n",
       "      <th>Illegal Parking</th>\n",
       "      <td>795</td>\n",
       "    </tr>\n",
       "    <tr>\n",
       "      <th>Long Island City</th>\n",
       "      <th>Illegal Parking</th>\n",
       "      <td>52</td>\n",
       "    </tr>\n",
       "    <tr>\n",
       "      <th>MASPETH</th>\n",
       "      <th>Illegal Parking</th>\n",
       "      <td>976</td>\n",
       "    </tr>\n",
       "    <tr>\n",
       "      <th>MIDDLE VILLAGE</th>\n",
       "      <th>Illegal Parking</th>\n",
       "      <td>877</td>\n",
       "    </tr>\n",
       "    <tr>\n",
       "      <th>NEW HYDE PARK</th>\n",
       "      <th>Blocked Driveway</th>\n",
       "      <td>53</td>\n",
       "    </tr>\n",
       "    <tr>\n",
       "      <th>NEW YORK</th>\n",
       "      <th>Noise - Street/Sidewalk</th>\n",
       "      <td>20433</td>\n",
       "    </tr>\n",
       "    <tr>\n",
       "      <th>OAKLAND GARDENS</th>\n",
       "      <th>Illegal Parking</th>\n",
       "      <td>263</td>\n",
       "    </tr>\n",
       "    <tr>\n",
       "      <th>OZONE PARK</th>\n",
       "      <th>Blocked Driveway</th>\n",
       "      <td>1259</td>\n",
       "    </tr>\n",
       "    <tr>\n",
       "      <th>QUEENS</th>\n",
       "      <th>Illegal Parking</th>\n",
       "      <td>8</td>\n",
       "    </tr>\n",
       "    <tr>\n",
       "      <th>QUEENS VILLAGE</th>\n",
       "      <th>Blocked Driveway</th>\n",
       "      <td>585</td>\n",
       "    </tr>\n",
       "    <tr>\n",
       "      <th>REGO PARK</th>\n",
       "      <th>Blocked Driveway</th>\n",
       "      <td>611</td>\n",
       "    </tr>\n",
       "    <tr>\n",
       "      <th>RICHMOND HILL</th>\n",
       "      <th>Blocked Driveway</th>\n",
       "      <td>872</td>\n",
       "    </tr>\n",
       "    <tr>\n",
       "      <th>RIDGEWOOD</th>\n",
       "      <th>Illegal Parking</th>\n",
       "      <td>1842</td>\n",
       "    </tr>\n",
       "    <tr>\n",
       "      <th>ROCKAWAY PARK</th>\n",
       "      <th>Illegal Parking</th>\n",
       "      <td>317</td>\n",
       "    </tr>\n",
       "    <tr>\n",
       "      <th>ROSEDALE</th>\n",
       "      <th>Illegal Parking</th>\n",
       "      <td>277</td>\n",
       "    </tr>\n",
       "    <tr>\n",
       "      <th>SAINT ALBANS</th>\n",
       "      <th>Blocked Driveway</th>\n",
       "      <td>244</td>\n",
       "    </tr>\n",
       "    <tr>\n",
       "      <th>SOUTH OZONE PARK</th>\n",
       "      <th>Blocked Driveway</th>\n",
       "      <td>942</td>\n",
       "    </tr>\n",
       "    <tr>\n",
       "      <th>SOUTH RICHMOND HILL</th>\n",
       "      <th>Blocked Driveway</th>\n",
       "      <td>1548</td>\n",
       "    </tr>\n",
       "    <tr>\n",
       "      <th>SPRINGFIELD GARDENS</th>\n",
       "      <th>Blocked Driveway</th>\n",
       "      <td>262</td>\n",
       "    </tr>\n",
       "    <tr>\n",
       "      <th>STATEN ISLAND</th>\n",
       "      <th>Illegal Parking</th>\n",
       "      <td>4886</td>\n",
       "    </tr>\n",
       "    <tr>\n",
       "      <th>SUNNYSIDE</th>\n",
       "      <th>Blocked Driveway</th>\n",
       "      <td>206</td>\n",
       "    </tr>\n",
       "    <tr>\n",
       "      <th>WHITESTONE</th>\n",
       "      <th>Illegal Parking</th>\n",
       "      <td>525</td>\n",
       "    </tr>\n",
       "    <tr>\n",
       "      <th>WOODHAVEN</th>\n",
       "      <th>Blocked Driveway</th>\n",
       "      <td>1060</td>\n",
       "    </tr>\n",
       "    <tr>\n",
       "      <th>WOODSIDE</th>\n",
       "      <th>Blocked Driveway</th>\n",
       "      <td>1613</td>\n",
       "    </tr>\n",
       "    <tr>\n",
       "      <th>Woodside</th>\n",
       "      <th>Illegal Parking</th>\n",
       "      <td>100</td>\n",
       "    </tr>\n",
       "  </tbody>\n",
       "</table>\n",
       "</div>"
      ],
      "text/plain": [
       "                                             Complaint Type\n",
       "City                Complaint Type                         \n",
       "ARVERNE             Illegal Parking                      58\n",
       "ASTORIA             Blocked Driveway                   2618\n",
       "Astoria             Noise - Commercial                  262\n",
       "BAYSIDE             Illegal Parking                     514\n",
       "BELLEROSE           Illegal Parking                     106\n",
       "BREEZY POINT        Illegal Parking                      15\n",
       "BRONX               Blocked Driveway                  12755\n",
       "BROOKLYN            Blocked Driveway                  28148\n",
       "CAMBRIA HEIGHTS     Blocked Driveway                    147\n",
       "CENTRAL PARK        Noise - Street/Sidewalk              95\n",
       "COLLEGE POINT       Blocked Driveway                    435\n",
       "CORONA              Blocked Driveway                   2761\n",
       "EAST ELMHURST       Blocked Driveway                   1408\n",
       "ELMHURST            Blocked Driveway                   1446\n",
       "East Elmhurst       Illegal Parking                      13\n",
       "FAR ROCKAWAY        Illegal Parking                     295\n",
       "FLORAL PARK         Illegal Parking                      64\n",
       "FLUSHING            Blocked Driveway                   2795\n",
       "FOREST HILLS        Blocked Driveway                    663\n",
       "FRESH MEADOWS       Illegal Parking                     885\n",
       "GLEN OAKS           Noise - Commercial                   78\n",
       "HOLLIS              Blocked Driveway                    342\n",
       "HOWARD BEACH        Illegal Parking                     281\n",
       "Howard Beach        Blocked Driveway                      1\n",
       "JACKSON HEIGHTS     Blocked Driveway                    568\n",
       "JAMAICA             Blocked Driveway                   2818\n",
       "KEW GARDENS         Blocked Driveway                    313\n",
       "LITTLE NECK         Illegal Parking                     249\n",
       "LONG ISLAND CITY    Illegal Parking                     795\n",
       "Long Island City    Illegal Parking                      52\n",
       "MASPETH             Illegal Parking                     976\n",
       "MIDDLE VILLAGE      Illegal Parking                     877\n",
       "NEW HYDE PARK       Blocked Driveway                     53\n",
       "NEW YORK            Noise - Street/Sidewalk           20433\n",
       "OAKLAND GARDENS     Illegal Parking                     263\n",
       "OZONE PARK          Blocked Driveway                   1259\n",
       "QUEENS              Illegal Parking                       8\n",
       "QUEENS VILLAGE      Blocked Driveway                    585\n",
       "REGO PARK           Blocked Driveway                    611\n",
       "RICHMOND HILL       Blocked Driveway                    872\n",
       "RIDGEWOOD           Illegal Parking                    1842\n",
       "ROCKAWAY PARK       Illegal Parking                     317\n",
       "ROSEDALE            Illegal Parking                     277\n",
       "SAINT ALBANS        Blocked Driveway                    244\n",
       "SOUTH OZONE PARK    Blocked Driveway                    942\n",
       "SOUTH RICHMOND HILL Blocked Driveway                   1548\n",
       "SPRINGFIELD GARDENS Blocked Driveway                    262\n",
       "STATEN ISLAND       Illegal Parking                    4886\n",
       "SUNNYSIDE           Blocked Driveway                    206\n",
       "WHITESTONE          Illegal Parking                     525\n",
       "WOODHAVEN           Blocked Driveway                   1060\n",
       "WOODSIDE            Blocked Driveway                   1613\n",
       "Woodside            Illegal Parking                     100"
      ]
     },
     "execution_count": 7,
     "metadata": {},
     "output_type": "execute_result"
    }
   ],
   "source": [
    "newframe1=pd.DataFrame(alldata.groupby('City')['Complaint Type'].value_counts())\n",
    "newframe1.groupby('City').head(1)"
   ]
  },
  {
   "cell_type": "markdown",
   "id": "cf230977",
   "metadata": {},
   "source": [
    "#### Conclusion No3) No of Complaints month wise in form of bar chart."
   ]
  },
  {
   "cell_type": "code",
   "execution_count": 8,
   "id": "04adccde",
   "metadata": {
    "scrolled": true
   },
   "outputs": [
    {
     "data": {
      "text/plain": [
       "<AxesSubplot:xlabel='Created Date'>"
      ]
     },
     "execution_count": 8,
     "metadata": {},
     "output_type": "execute_result"
    },
    {
     "data": {
      "image/png": "[encoded data removed]",
      "text/plain": [
       "<Figure size 432x288 with 1 Axes>"
      ]
     },
     "metadata": {
      "needs_background": "light"
     },
     "output_type": "display_data"
    }
   ],
   "source": [
    "newframe2=pd.DataFrame(alldata['Created Date'].dt.month)\n",
    "newframe2.groupby('Created Date').value_counts().plot(kind='bar')"
   ]
  },
  {
   "cell_type": "markdown",
   "id": "9cb377b0",
   "metadata": {},
   "source": [
    "#### Above chart shows maximum complaints are from 5th month and least complaints are from 3rd month"
   ]
  },
  {
   "cell_type": "markdown",
   "id": "04763590",
   "metadata": {},
   "source": [
    "#### Conclusion 4) No of unique Complaint types"
   ]
  },
  {
   "cell_type": "code",
   "execution_count": 9,
   "id": "ab541b65",
   "metadata": {},
   "outputs": [
    {
     "data": {
      "text/plain": [
       "24"
      ]
     },
     "execution_count": 9,
     "metadata": {},
     "output_type": "execute_result"
    }
   ],
   "source": [
    "alldata['Complaint Type'].nunique()"
   ]
  },
  {
   "cell_type": "markdown",
   "id": "522d37f2",
   "metadata": {},
   "source": [
    "### Task 5) Order the complaint types based on the average ‘Request_Closing_Time’, grouping them for different location Type"
   ]
  },
  {
   "cell_type": "code",
   "execution_count": 24,
   "id": "3e68ec5b",
   "metadata": {},
   "outputs": [
    {
     "data": {
      "text/plain": [
       "Location Type        Complaint Type     \n",
       "Bridge               Homeless Encampment    3.819306\n",
       "Club/Bar/Restaurant  Drinking               4.019785\n",
       "                     Noise - Commercial     2.891485\n",
       "                     Urinating in Public    4.491429\n",
       "Commercial           Animal Abuse           4.568575\n",
       "                                              ...   \n",
       "Street/Sidewalk      Vending                3.791013\n",
       "Subway Station       Animal Abuse           3.035606\n",
       "                     Urinating in Public    1.152130\n",
       "Terminal             Ferry Complaint             NaN\n",
       "Vacant Lot           Derelict Vehicle       4.045354\n",
       "Name: Request_Closing_Time, Length: 71, dtype: float64"
      ]
     },
     "execution_count": 24,
     "metadata": {},
     "output_type": "execute_result"
    }
   ],
   "source": [
    "alldata.groupby(['Location Type','Complaint Type'])['Request_Closing_Time'].mean()"
   ]
  },
  {
   "cell_type": "markdown",
   "id": "ebda401a",
   "metadata": {},
   "source": [
    "### Task 6) Hypothesis Testing"
   ]
  },
  {
   "cell_type": "markdown",
   "id": "e6886b8d",
   "metadata": {},
   "source": [
    "#### Whether the average response time across complaint types is similar or not (overall)"
   ]
  },
  {
   "cell_type": "code",
   "execution_count": 11,
   "id": "6bb89795",
   "metadata": {},
   "outputs": [],
   "source": [
    "Hnull1='The average response time across complaint types is similar'\n",
    "Halternate1='The average response time across complaint types is not similar'"
   ]
  },
  {
   "cell_type": "code",
   "execution_count": 12,
   "id": "b6c2a537",
   "metadata": {},
   "outputs": [],
   "source": [
    "newframe3=alldata[alldata['Request_Closing_Time'].notnull()]\n",
    "Sample=newframe3.sample(n=2500)\n",
    "ttest,pvalue=ttest_1samp(Sample['Request_Closing_Time'],newframe3['Request_Closing_Time'].mean())"
   ]
  },
  {
   "cell_type": "code",
   "execution_count": 13,
   "id": "f0620d24",
   "metadata": {},
   "outputs": [
    {
     "name": "stdout",
     "output_type": "stream",
     "text": [
      "Null Hypothesis is accepted, The average response time across complaint types is similar\n"
     ]
    }
   ],
   "source": [
    "if(pvalue>0.05):\n",
    "    print(\"Null Hypothesis is accepted,\",Hnull1)\n",
    "else:print(\"Null Hypothesis is Rejected\",Halternate1)"
   ]
  },
  {
   "cell_type": "markdown",
   "id": "27da5192",
   "metadata": {},
   "source": [
    "#### Are the type of complaint or service requested and location related"
   ]
  },
  {
   "cell_type": "code",
   "execution_count": 14,
   "id": "0a943183",
   "metadata": {},
   "outputs": [],
   "source": [
    "Hnull2='The type of complaint or service requested and location are not related'\n",
    "Halternate2='The type of complaint or service requested and location are related'"
   ]
  },
  {
   "cell_type": "code",
   "execution_count": 15,
   "id": "c628c524",
   "metadata": {},
   "outputs": [],
   "source": [
    "newframe4=pd.crosstab(newframe3['Complaint Type'],newframe3['Location Type'])\n",
    "observedval=newframe4.values\n",
    "squarex,pvalue,dof,expected=stats.chi2_contingency(newframe4)"
   ]
  },
  {
   "cell_type": "code",
   "execution_count": 16,
   "id": "c27075b7",
   "metadata": {},
   "outputs": [
    {
     "name": "stdout",
     "output_type": "stream",
     "text": [
      "Null Hypothesis is rejected, The type of complaint or service requested and location are related\n"
     ]
    }
   ],
   "source": [
    "if(pvalue>0.05): print(\"Null Hypothesis accepted\",(Hnull2))      \n",
    "else:(print(\"Null Hypothesis is rejected,\",Halternate2))  "
   ]
  }
 ],
 "metadata": {
  "kernelspec": {
   "display_name": "Python 3 (ipykernel)",
   "language": "python",
   "name": "python3"
  },
  "language_info": {
   "codemirror_mode": {
    "name": "ipython",
    "version": 3
   },
   "file_extension": ".py",
   "mimetype": "text/x-python",
   "name": "python",
   "nbconvert_exporter": "python",
   "pygments_lexer": "ipython3",
   "version": "3.9.12"
  }
 },
 "nbformat": 4,
 "nbformat_minor": 5
}
